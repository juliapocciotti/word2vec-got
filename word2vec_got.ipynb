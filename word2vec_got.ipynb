{
 "cells": [
  {
   "cell_type": "markdown",
   "metadata": {},
   "source": [
    "# Word2Vec e Game of Thrones \n",
    "Neste notebook, faremos uma análise dos roteiros da série Game of Thrones utilizando Word2Vec. Este dataset pode ser encontrado [aqui](https://www.kaggle.com/anderfj/game-of-thrones-series-scripts-breakdowns) "
   ]
  },
  {
   "cell_type": "markdown",
   "metadata": {},
   "source": [
    "### Breve explicação\n",
    "A suposição feita pelo word2vec é a de que duas palavras que compartilham contextos semelhantes, também irão compartilhar uma representação vetorial semelhante do modelo. Por exemplo, se palavras como \"cachorrinho\" e \"fofo\" forem frequentemente usadas em situações semelhantes, logo, essas mesmas palavras também terão vetores similares em sua representação segundo o word2vec. \n",
    "\n",
    "É através desta suposição que o word2vec consegue encontrar relações entre as palavras em um dataset, computar a similaridade entre elas e usar a sua representação em vetores para essas palavras como input para outras aplicações, como classificação de texto ou clustering. "
   ]
  },
  {
   "cell_type": "markdown",
   "metadata": {},
   "source": [
    "## Importando bibliotecas"
   ]
  },
  {
   "cell_type": "code",
   "execution_count": 1,
   "metadata": {},
   "outputs": [],
   "source": [
    "import pandas as pd\n",
    "import re \n",
    "from time import time\n",
    "from collections import defaultdict \n",
    "import spacy \n",
    "import logging\n",
    "logging.basicConfig(format=\"%(levelname)s - %(asctime)s: %(message)s\", datefmt= '%H:%M:%S', level=logging.INFO)"
   ]
  },
  {
   "cell_type": "markdown",
   "metadata": {},
   "source": [
    "## Pré-processamentos"
   ]
  },
  {
   "cell_type": "code",
   "execution_count": 2,
   "metadata": {},
   "outputs": [],
   "source": [
    "#Carregando o dataset \n",
    "df = pd.read_csv('got_scripts_breakdown.csv', sep = ';')\n",
    "df.drop('Column1', axis=1, inplace=True)"
   ]
  },
  {
   "cell_type": "code",
   "execution_count": 3,
   "metadata": {},
   "outputs": [
    {
     "data": {
      "text/html": [
       "<div>\n",
       "<style scoped>\n",
       "    .dataframe tbody tr th:only-of-type {\n",
       "        vertical-align: middle;\n",
       "    }\n",
       "\n",
       "    .dataframe tbody tr th {\n",
       "        vertical-align: top;\n",
       "    }\n",
       "\n",
       "    .dataframe thead th {\n",
       "        text-align: right;\n",
       "    }\n",
       "</style>\n",
       "<table border=\"1\" class=\"dataframe\">\n",
       "  <thead>\n",
       "    <tr style=\"text-align: right;\">\n",
       "      <th></th>\n",
       "      <th>Season</th>\n",
       "      <th>Episode</th>\n",
       "      <th>Sentence</th>\n",
       "      <th>Name</th>\n",
       "      <th>N_serie</th>\n",
       "      <th>N_Season</th>\n",
       "      <th>Emision Date</th>\n",
       "    </tr>\n",
       "  </thead>\n",
       "  <tbody>\n",
       "    <tr>\n",
       "      <th>0</th>\n",
       "      <td>Season 1</td>\n",
       "      <td>winter is coming</td>\n",
       "      <td>What d’you expect? They’re savages One lot ste...</td>\n",
       "      <td>waymar royce</td>\n",
       "      <td>1</td>\n",
       "      <td>1</td>\n",
       "      <td>17/04/2011</td>\n",
       "    </tr>\n",
       "    <tr>\n",
       "      <th>1</th>\n",
       "      <td>Season 1</td>\n",
       "      <td>winter is coming</td>\n",
       "      <td>I’ve never seen wildlings do a thing like this...</td>\n",
       "      <td>will</td>\n",
       "      <td>1</td>\n",
       "      <td>1</td>\n",
       "      <td>17/04/2011</td>\n",
       "    </tr>\n",
       "    <tr>\n",
       "      <th>2</th>\n",
       "      <td>Season 1</td>\n",
       "      <td>winter is coming</td>\n",
       "      <td>How close did you get?</td>\n",
       "      <td>waymar royce</td>\n",
       "      <td>1</td>\n",
       "      <td>1</td>\n",
       "      <td>17/04/2011</td>\n",
       "    </tr>\n",
       "    <tr>\n",
       "      <th>3</th>\n",
       "      <td>Season 1</td>\n",
       "      <td>winter is coming</td>\n",
       "      <td>Close as any man would</td>\n",
       "      <td>will</td>\n",
       "      <td>1</td>\n",
       "      <td>1</td>\n",
       "      <td>17/04/2011</td>\n",
       "    </tr>\n",
       "    <tr>\n",
       "      <th>4</th>\n",
       "      <td>Season 1</td>\n",
       "      <td>winter is coming</td>\n",
       "      <td>We should head back to the wall</td>\n",
       "      <td>gared</td>\n",
       "      <td>1</td>\n",
       "      <td>1</td>\n",
       "      <td>17/04/2011</td>\n",
       "    </tr>\n",
       "  </tbody>\n",
       "</table>\n",
       "</div>"
      ],
      "text/plain": [
       "     Season           Episode  \\\n",
       "0  Season 1  winter is coming   \n",
       "1  Season 1  winter is coming   \n",
       "2  Season 1  winter is coming   \n",
       "3  Season 1  winter is coming   \n",
       "4  Season 1  winter is coming   \n",
       "\n",
       "                                            Sentence          Name  N_serie  \\\n",
       "0  What d’you expect? They’re savages One lot ste...  waymar royce        1   \n",
       "1  I’ve never seen wildlings do a thing like this...          will        1   \n",
       "2                             How close did you get?  waymar royce        1   \n",
       "3                             Close as any man would          will        1   \n",
       "4                    We should head back to the wall         gared        1   \n",
       "\n",
       "   N_Season Emision Date  \n",
       "0         1   17/04/2011  \n",
       "1         1   17/04/2011  \n",
       "2         1   17/04/2011  \n",
       "3         1   17/04/2011  \n",
       "4         1   17/04/2011  "
      ]
     },
     "execution_count": 3,
     "metadata": {},
     "output_type": "execute_result"
    }
   ],
   "source": [
    "#Leitura das primeiras linhas do dataset\n",
    "df.head()"
   ]
  },
  {
   "cell_type": "code",
   "execution_count": 4,
   "metadata": {},
   "outputs": [
    {
     "data": {
      "text/plain": [
       "(22510, 7)"
      ]
     },
     "execution_count": 4,
     "metadata": {},
     "output_type": "execute_result"
    }
   ],
   "source": [
    "df.shape"
   ]
  },
  {
   "cell_type": "markdown",
   "metadata": {},
   "source": [
    "#### Criando funções para limpar o texto"
   ]
  },
  {
   "cell_type": "code",
   "execution_count": 5,
   "metadata": {},
   "outputs": [],
   "source": [
    "nlp = spacy.load('en_core_web_sm')\n",
    "\n",
    "def limpar_texto(doc):\n",
    "    \"\"\"\n",
    "    Lematiza e retira stopwords.\n",
    "    O documento precisa ser um objeto spacy\n",
    "    \"\"\"\n",
    "    \n",
    "    texto = [token.lemma_ for token in doc if not token.is_stop]\n",
    "    \n",
    "    if len(texto)>2:\n",
    "        return \" \".join(texto)"
   ]
  },
  {
   "cell_type": "code",
   "execution_count": 6,
   "metadata": {},
   "outputs": [],
   "source": [
    "#retirando caracteres que não são letras e passando todos eles para sua forma minúscula.\n",
    "brief_cleaning = (re.sub(\"[^A-Za-z']+\", ' ', str(row)).lower() for row in df['Sentence']) "
   ]
  },
  {
   "cell_type": "markdown",
   "metadata": {},
   "source": [
    "Para aplicar os pré-processamentos, estaremos utilizando a pipeline da biblioteca spaCy. Você pode ler mais sobre isso [aqui](https://spacy.io/api/language#pipe) "
   ]
  },
  {
   "cell_type": "code",
   "execution_count": 7,
   "metadata": {},
   "outputs": [
    {
     "name": "stdout",
     "output_type": "stream",
     "text": [
      "Tempo para limpar tudo: 0.83 mins\n"
     ]
    }
   ],
   "source": [
    "t = time()\n",
    "\n",
    "#Aplicando as funções \n",
    "txt = [limpar_texto(doc) for doc in nlp.pipe(brief_cleaning, batch_size=5000)]\n",
    "\n",
    "print('Tempo para limpar tudo: {} mins'.format(round((time() - t) / 60, 2))) "
   ]
  },
  {
   "cell_type": "code",
   "execution_count": 8,
   "metadata": {},
   "outputs": [],
   "source": [
    "df_limpo = pd.DataFrame({'texto_limpo': txt})\n",
    "df_limpo = df_limpo.dropna()"
   ]
  },
  {
   "cell_type": "code",
   "execution_count": 9,
   "metadata": {},
   "outputs": [
    {
     "data": {
      "text/html": [
       "<div>\n",
       "<style scoped>\n",
       "    .dataframe tbody tr th:only-of-type {\n",
       "        vertical-align: middle;\n",
       "    }\n",
       "\n",
       "    .dataframe tbody tr th {\n",
       "        vertical-align: top;\n",
       "    }\n",
       "\n",
       "    .dataframe thead th {\n",
       "        text-align: right;\n",
       "    }\n",
       "</style>\n",
       "<table border=\"1\" class=\"dataframe\">\n",
       "  <thead>\n",
       "    <tr style=\"text-align: right;\">\n",
       "      <th></th>\n",
       "      <th>texto_limpo</th>\n",
       "    </tr>\n",
       "  </thead>\n",
       "  <tbody>\n",
       "    <tr>\n",
       "      <th>0</th>\n",
       "      <td>d expect savage lot steal goat lot know rip piece</td>\n",
       "    </tr>\n",
       "    <tr>\n",
       "      <th>1</th>\n",
       "      <td>ve see wildling thing like ve see thing like life</td>\n",
       "    </tr>\n",
       "    <tr>\n",
       "      <th>6</th>\n",
       "      <td>order track wildling track win t trouble</td>\n",
       "    </tr>\n",
       "    <tr>\n",
       "      <th>7</th>\n",
       "      <td>don t think will ask die horse</td>\n",
       "    </tr>\n",
       "    <tr>\n",
       "      <th>9</th>\n",
       "      <td>s good thing child want run away south run awa...</td>\n",
       "    </tr>\n",
       "  </tbody>\n",
       "</table>\n",
       "</div>"
      ],
      "text/plain": [
       "                                         texto_limpo\n",
       "0  d expect savage lot steal goat lot know rip piece\n",
       "1  ve see wildling thing like ve see thing like life\n",
       "6           order track wildling track win t trouble\n",
       "7                     don t think will ask die horse\n",
       "9  s good thing child want run away south run awa..."
      ]
     },
     "execution_count": 9,
     "metadata": {},
     "output_type": "execute_result"
    }
   ],
   "source": [
    "df_limpo.head()"
   ]
  },
  {
   "cell_type": "code",
   "execution_count": 10,
   "metadata": {},
   "outputs": [
    {
     "name": "stdout",
     "output_type": "stream",
     "text": [
      "(22510, 7)\n",
      "(13761, 1)\n"
     ]
    }
   ],
   "source": [
    "print(df.shape)\n",
    "print(df_limpo.shape)"
   ]
  },
  {
   "cell_type": "markdown",
   "metadata": {},
   "source": [
    "No processo de limpar o nosso texto, retiramos muitas linhas do nosso dataset original que eram compostas apenas por stopwords. Por isso, geramos um novo dataframe apenas com o texto limpo."
   ]
  },
  {
   "cell_type": "markdown",
   "metadata": {},
   "source": [
    "## Bigramas\n",
    "Vamos utilizar o pacote [Gensim Phrases](https://radimrehurek.com/gensim/models/phrases.html) para automaticamente detectar bigramas. Com isso, conseguimos captar expressões como \"jon_snow\" e \"tyrion_lannister\". "
   ]
  },
  {
   "cell_type": "code",
   "execution_count": 11,
   "metadata": {},
   "outputs": [],
   "source": [
    "from gensim.models.phrases import Phrases, Phraser"
   ]
  },
  {
   "cell_type": "markdown",
   "metadata": {},
   "source": [
    "Como o `Phrases()` recebe como input uma lista de lista de palavras, vamos fazer esse passo primeiro: "
   ]
  },
  {
   "cell_type": "code",
   "execution_count": 12,
   "metadata": {},
   "outputs": [],
   "source": [
    "sent = [row.split() for row in df_limpo['texto_limpo']]"
   ]
  },
  {
   "cell_type": "markdown",
   "metadata": {},
   "source": [
    "Criando bigramas relevantes a partir da lista de frases:"
   ]
  },
  {
   "cell_type": "code",
   "execution_count": 13,
   "metadata": {},
   "outputs": [
    {
     "name": "stderr",
     "output_type": "stream",
     "text": [
      "INFO - 14:16:04: collecting all words and their counts\n",
      "INFO - 14:16:04: PROGRESS: at sentence #0, processed 0 words and 0 word types\n",
      "INFO - 14:16:05: PROGRESS: at sentence #10000, processed 77822 words and 54321 word types\n",
      "INFO - 14:16:05: collected 72644 word types from a corpus of 110250 words (unigram + bigrams) and 13761 sentences\n",
      "INFO - 14:16:05: using 72644 counts as vocab in Phrases<0 vocab, min_count=30, threshold=10.0, max_vocab_size=40000000>\n",
      "INFO - 14:16:05: source_vocab length 72644\n",
      "INFO - 14:16:05: Phraser built with 30 phrasegrams\n"
     ]
    }
   ],
   "source": [
    "phrases = Phrases(sent, min_count=30, progress_per=10000)\n",
    "bigram = Phraser(phrases)"
   ]
  },
  {
   "cell_type": "code",
   "execution_count": 14,
   "metadata": {},
   "outputs": [
    {
     "name": "stdout",
     "output_type": "stream",
     "text": [
      "['you', 'know', 'nothing', 'jon_snow']\n"
     ]
    }
   ],
   "source": [
    "print(bigram[\"you know nothing jon snow\".split()])"
   ]
  },
  {
   "cell_type": "markdown",
   "metadata": {},
   "source": [
    "Como podemos observar, o nome \"Jon Snow\" foi reconhecido como um bigrama (indicado pelo `_` )"
   ]
  },
  {
   "cell_type": "code",
   "execution_count": 15,
   "metadata": {},
   "outputs": [],
   "source": [
    "sentences = bigram[sent]"
   ]
  },
  {
   "cell_type": "markdown",
   "metadata": {},
   "source": [
    "## Word2Vec"
   ]
  },
  {
   "cell_type": "code",
   "execution_count": 16,
   "metadata": {},
   "outputs": [],
   "source": [
    "import multiprocessing\n",
    "\n",
    "from gensim.models import Word2Vec"
   ]
  },
  {
   "cell_type": "markdown",
   "metadata": {},
   "source": [
    "### Os parâmetros\n",
    "Há uma lista bem extensa com os parâmetros que podemos usar no [word2vec](https://radimrehurek.com/gensim/models/word2vec.html). Aqui, vamos apenas ajustar alguns, e, para os demais, usaremos a configuração padrão.\n",
    "\n",
    "- `size`: representa aqui a dimensão do espaço vetorial. Esse parâmetro costuma ficar em um intervalo de 50 a 300. Como o nosso dataset é relativamente pequeno, vamos usar **80**\n",
    "- `min_count`: contagem mínima que uma palavra precisa aparecer para ser treinada. Como já tínhamos colocado isso no pré-processamento, aqui vamos usar **2** também.\n",
    "- `window`: distância entre a palavra atual e a que queremos prever - **2**"
   ]
  },
  {
   "cell_type": "code",
   "execution_count": 17,
   "metadata": {},
   "outputs": [],
   "source": [
    "w2v_model = Word2Vec(min_count=2, size=80, window=2)"
   ]
  },
  {
   "cell_type": "markdown",
   "metadata": {},
   "source": [
    "### Construindo a tabela com o vocabulário\n",
    "Word2Vec requer a construção de uma tabela com o vocabulário (simplesmente seleciona todas as palavras e filtra as que são únicas. Além de fazer algumas contagens com elas)"
   ]
  },
  {
   "cell_type": "code",
   "execution_count": 18,
   "metadata": {},
   "outputs": [
    {
     "name": "stderr",
     "output_type": "stream",
     "text": [
      "INFO - 14:16:06: collecting all words and their counts\n",
      "INFO - 14:16:06: PROGRESS: at sentence #0, processed 0 words, keeping 0 word types\n",
      "INFO - 14:16:06: PROGRESS: at sentence #10000, processed 76471 words, keeping 5688 word types\n",
      "INFO - 14:16:06: collected 6675 word types from a corpus of 108063 raw words and 13761 sentences\n",
      "INFO - 14:16:06: Loading a fresh vocabulary\n",
      "INFO - 14:16:06: effective_min_count=2 retains 4109 unique words (61% of original 6675, drops 2566)\n",
      "INFO - 14:16:06: effective_min_count=2 leaves 105497 word corpus (97% of original 108063, drops 2566)\n",
      "INFO - 14:16:06: deleting the raw counts dictionary of 6675 items\n",
      "INFO - 14:16:06: sample=0.001 downsamples 62 most-common words\n",
      "INFO - 14:16:06: downsampling leaves estimated 92177 word corpus (87.4% of prior 105497)\n",
      "INFO - 14:16:06: estimated required memory for 4109 words and 80 dimensions: 4684260 bytes\n",
      "INFO - 14:16:06: resetting layer weights\n"
     ]
    },
    {
     "name": "stdout",
     "output_type": "stream",
     "text": [
      "Time to build vocab: 0.03 mins\n"
     ]
    }
   ],
   "source": [
    "t = time()\n",
    "\n",
    "w2v_model.build_vocab(sentences, progress_per=10000) \n",
    "\n",
    "print('Time to build vocab: {} mins'.format(round((time() - t) / 60, 2)))"
   ]
  },
  {
   "cell_type": "markdown",
   "metadata": {},
   "source": [
    "### Treinando o modelo \n"
   ]
  },
  {
   "cell_type": "code",
   "execution_count": 19,
   "metadata": {
    "scrolled": true
   },
   "outputs": [
    {
     "name": "stderr",
     "output_type": "stream",
     "text": [
      "INFO - 14:16:07: training model with 3 workers on 4109 vocabulary and 80 features, using sg=0 hs=0 sample=0.001 negative=5 window=2\n",
      "INFO - 14:16:08: worker thread finished; awaiting finish of 2 more threads\n",
      "INFO - 14:16:08: worker thread finished; awaiting finish of 1 more threads\n",
      "INFO - 14:16:08: worker thread finished; awaiting finish of 0 more threads\n",
      "INFO - 14:16:08: EPOCH - 1 : training on 108063 raw words (92190 effective words) took 0.5s, 179242 effective words/s\n",
      "INFO - 14:16:08: worker thread finished; awaiting finish of 2 more threads\n",
      "INFO - 14:16:08: worker thread finished; awaiting finish of 1 more threads\n",
      "INFO - 14:16:08: worker thread finished; awaiting finish of 0 more threads\n",
      "INFO - 14:16:08: EPOCH - 2 : training on 108063 raw words (92100 effective words) took 0.5s, 178739 effective words/s\n",
      "INFO - 14:16:09: worker thread finished; awaiting finish of 2 more threads\n",
      "INFO - 14:16:09: worker thread finished; awaiting finish of 1 more threads\n",
      "INFO - 14:16:09: worker thread finished; awaiting finish of 0 more threads\n",
      "INFO - 14:16:09: EPOCH - 3 : training on 108063 raw words (92226 effective words) took 0.6s, 167428 effective words/s\n",
      "INFO - 14:16:09: worker thread finished; awaiting finish of 2 more threads\n",
      "INFO - 14:16:09: worker thread finished; awaiting finish of 1 more threads\n",
      "INFO - 14:16:09: worker thread finished; awaiting finish of 0 more threads\n",
      "INFO - 14:16:09: EPOCH - 4 : training on 108063 raw words (92218 effective words) took 0.5s, 180014 effective words/s\n",
      "INFO - 14:16:10: worker thread finished; awaiting finish of 2 more threads\n",
      "INFO - 14:16:10: worker thread finished; awaiting finish of 1 more threads\n",
      "INFO - 14:16:10: worker thread finished; awaiting finish of 0 more threads\n",
      "INFO - 14:16:10: EPOCH - 5 : training on 108063 raw words (92204 effective words) took 0.5s, 182542 effective words/s\n",
      "INFO - 14:16:10: worker thread finished; awaiting finish of 2 more threads\n",
      "INFO - 14:16:10: worker thread finished; awaiting finish of 1 more threads\n",
      "INFO - 14:16:10: worker thread finished; awaiting finish of 0 more threads\n",
      "INFO - 14:16:10: EPOCH - 6 : training on 108063 raw words (92170 effective words) took 0.5s, 182820 effective words/s\n",
      "INFO - 14:16:11: worker thread finished; awaiting finish of 2 more threads\n",
      "INFO - 14:16:11: worker thread finished; awaiting finish of 1 more threads\n",
      "INFO - 14:16:11: worker thread finished; awaiting finish of 0 more threads\n",
      "INFO - 14:16:11: EPOCH - 7 : training on 108063 raw words (92291 effective words) took 0.6s, 161680 effective words/s\n",
      "INFO - 14:16:12: worker thread finished; awaiting finish of 2 more threads\n",
      "INFO - 14:16:12: worker thread finished; awaiting finish of 1 more threads\n",
      "INFO - 14:16:12: worker thread finished; awaiting finish of 0 more threads\n",
      "INFO - 14:16:12: EPOCH - 8 : training on 108063 raw words (92352 effective words) took 0.5s, 184380 effective words/s\n",
      "INFO - 14:16:12: worker thread finished; awaiting finish of 2 more threads\n",
      "INFO - 14:16:12: worker thread finished; awaiting finish of 1 more threads\n",
      "INFO - 14:16:12: worker thread finished; awaiting finish of 0 more threads\n",
      "INFO - 14:16:12: EPOCH - 9 : training on 108063 raw words (92130 effective words) took 0.5s, 183357 effective words/s\n",
      "INFO - 14:16:13: worker thread finished; awaiting finish of 2 more threads\n",
      "INFO - 14:16:13: worker thread finished; awaiting finish of 1 more threads\n",
      "INFO - 14:16:13: worker thread finished; awaiting finish of 0 more threads\n",
      "INFO - 14:16:13: EPOCH - 10 : training on 108063 raw words (92291 effective words) took 0.6s, 163451 effective words/s\n",
      "INFO - 14:16:13: worker thread finished; awaiting finish of 2 more threads\n",
      "INFO - 14:16:13: worker thread finished; awaiting finish of 1 more threads\n",
      "INFO - 14:16:13: worker thread finished; awaiting finish of 0 more threads\n",
      "INFO - 14:16:13: EPOCH - 11 : training on 108063 raw words (92310 effective words) took 0.5s, 185035 effective words/s\n",
      "INFO - 14:16:14: worker thread finished; awaiting finish of 2 more threads\n",
      "INFO - 14:16:14: worker thread finished; awaiting finish of 1 more threads\n",
      "INFO - 14:16:14: worker thread finished; awaiting finish of 0 more threads\n",
      "INFO - 14:16:14: EPOCH - 12 : training on 108063 raw words (92165 effective words) took 0.5s, 179139 effective words/s\n",
      "INFO - 14:16:14: worker thread finished; awaiting finish of 2 more threads\n",
      "INFO - 14:16:14: worker thread finished; awaiting finish of 1 more threads\n",
      "INFO - 14:16:14: worker thread finished; awaiting finish of 0 more threads\n",
      "INFO - 14:16:14: EPOCH - 13 : training on 108063 raw words (92229 effective words) took 0.5s, 170137 effective words/s\n",
      "INFO - 14:16:15: worker thread finished; awaiting finish of 2 more threads\n",
      "INFO - 14:16:15: worker thread finished; awaiting finish of 1 more threads\n",
      "INFO - 14:16:15: worker thread finished; awaiting finish of 0 more threads\n",
      "INFO - 14:16:15: EPOCH - 14 : training on 108063 raw words (92032 effective words) took 0.5s, 177470 effective words/s\n",
      "INFO - 14:16:15: worker thread finished; awaiting finish of 2 more threads\n",
      "INFO - 14:16:15: worker thread finished; awaiting finish of 1 more threads\n",
      "INFO - 14:16:15: worker thread finished; awaiting finish of 0 more threads\n",
      "INFO - 14:16:15: EPOCH - 15 : training on 108063 raw words (92234 effective words) took 0.5s, 187229 effective words/s\n",
      "INFO - 14:16:16: worker thread finished; awaiting finish of 2 more threads\n",
      "INFO - 14:16:16: worker thread finished; awaiting finish of 1 more threads\n",
      "INFO - 14:16:16: worker thread finished; awaiting finish of 0 more threads\n",
      "INFO - 14:16:16: EPOCH - 16 : training on 108063 raw words (92163 effective words) took 0.5s, 189423 effective words/s\n",
      "INFO - 14:16:16: worker thread finished; awaiting finish of 2 more threads\n",
      "INFO - 14:16:16: worker thread finished; awaiting finish of 1 more threads\n",
      "INFO - 14:16:16: worker thread finished; awaiting finish of 0 more threads\n",
      "INFO - 14:16:16: EPOCH - 17 : training on 108063 raw words (92113 effective words) took 0.6s, 164774 effective words/s\n",
      "INFO - 14:16:17: worker thread finished; awaiting finish of 2 more threads\n",
      "INFO - 14:16:17: worker thread finished; awaiting finish of 1 more threads\n",
      "INFO - 14:16:17: worker thread finished; awaiting finish of 0 more threads\n",
      "INFO - 14:16:17: EPOCH - 18 : training on 108063 raw words (92157 effective words) took 0.5s, 187496 effective words/s\n",
      "INFO - 14:16:17: worker thread finished; awaiting finish of 2 more threads\n",
      "INFO - 14:16:17: worker thread finished; awaiting finish of 1 more threads\n",
      "INFO - 14:16:17: worker thread finished; awaiting finish of 0 more threads\n",
      "INFO - 14:16:17: EPOCH - 19 : training on 108063 raw words (92259 effective words) took 0.5s, 187263 effective words/s\n",
      "INFO - 14:16:18: worker thread finished; awaiting finish of 2 more threads\n",
      "INFO - 14:16:18: worker thread finished; awaiting finish of 1 more threads\n",
      "INFO - 14:16:18: worker thread finished; awaiting finish of 0 more threads\n",
      "INFO - 14:16:18: EPOCH - 20 : training on 108063 raw words (92192 effective words) took 0.6s, 166064 effective words/s\n",
      "INFO - 14:16:18: training on a 2161260 raw words (1844026 effective words) took 10.6s, 173842 effective words/s\n"
     ]
    },
    {
     "name": "stdout",
     "output_type": "stream",
     "text": [
      "Time to train the model: 0.18 mins\n"
     ]
    }
   ],
   "source": [
    "t = time()\n",
    "\n",
    "w2v_model.train(sentences, total_examples=w2v_model.corpus_count, epochs=20, report_delay=1)\n",
    "\n",
    "print('Time to train the model: {} mins'.format(round((time() - t) / 60, 2)))"
   ]
  },
  {
   "cell_type": "markdown",
   "metadata": {},
   "source": [
    "# Explorando o modelo"
   ]
  },
  {
   "cell_type": "markdown",
   "metadata": {},
   "source": [
    "### `most_similar`\n",
    "\n",
    "Vamos explorar quais são as palavras mais similares de acordo com alguns elementos da série:"
   ]
  },
  {
   "cell_type": "code",
   "execution_count": 20,
   "metadata": {},
   "outputs": [
    {
     "name": "stderr",
     "output_type": "stream",
     "text": [
      "INFO - 14:16:18: precomputing L2-norms of word weight vectors\n"
     ]
    },
    {
     "data": {
      "text/plain": [
       "[('ramsay', 0.8904601335525513),\n",
       " ('snow', 0.8364033102989197),\n",
       " ('yield', 0.8292680978775024),\n",
       " ('bolton', 0.8284211158752441),\n",
       " ('survive', 0.8095954656600952),\n",
       " ('ironborn', 0.8039368987083435),\n",
       " ('capital', 0.8007180690765381),\n",
       " ('robb', 0.7996101975440979),\n",
       " ('castle_black', 0.7994767427444458),\n",
       " ('riverrun', 0.7992897033691406)]"
      ]
     },
     "execution_count": 20,
     "metadata": {},
     "output_type": "execute_result"
    }
   ],
   "source": [
    "w2v_model.wv.most_similar(positive=[\"winterfell\"])"
   ]
  },
  {
   "cell_type": "code",
   "execution_count": 49,
   "metadata": {},
   "outputs": [
    {
     "data": {
      "text/plain": [
       "[('defend', 0.8826789855957031),\n",
       " ('slaughter', 0.834825873374939),\n",
       " ('abandon', 0.8246427774429321),\n",
       " ('join', 0.8137688040733337),\n",
       " ('protect', 0.8084516525268555),\n",
       " ('flay', 0.807414710521698),\n",
       " ('return', 0.7912930250167847),\n",
       " ('kingdom', 0.7865685224533081),\n",
       " ('entire', 0.7796071767807007),\n",
       " ('survive', 0.7769665718078613)]"
      ]
     },
     "execution_count": 49,
     "metadata": {},
     "output_type": "execute_result"
    }
   ],
   "source": [
    "w2v_model.wv.most_similar(positive=['night_watch'])"
   ]
  },
  {
   "cell_type": "code",
   "execution_count": 21,
   "metadata": {},
   "outputs": [
    {
     "data": {
      "text/plain": [
       "[('stormborn', 0.9505660533905029),\n",
       " ('targaryen', 0.9080790281295776),\n",
       " ('aegon', 0.829805850982666),\n",
       " ('aerys', 0.7972592115402222),\n",
       " ('rhaegar', 0.7906438112258911),\n",
       " ('rhaenyra', 0.7883229851722717),\n",
       " ('unburnt', 0.7823358178138733),\n",
       " ('unhurt', 0.7700403928756714),\n",
       " ('queen', 0.7662924528121948),\n",
       " ('visenya', 0.7571664452552795)]"
      ]
     },
     "execution_count": 21,
     "metadata": {},
     "output_type": "execute_result"
    }
   ],
   "source": [
    "w2v_model.wv.most_similar('daenerys')"
   ]
  },
  {
   "cell_type": "markdown",
   "metadata": {},
   "source": [
    "Parece que a longa lista de nomes da Daenerys foi bem captada pelo nosso modelo rs.\n",
    "\n",
    "Vamos ver quem é o candidato mais discutido quando o assunto é o Trono de Ferro segundo o nosso modelo:"
   ]
  },
  {
   "cell_type": "code",
   "execution_count": 22,
   "metadata": {},
   "outputs": [
    {
     "data": {
      "text/plain": [
       "[('throne', 0.9030369520187378),\n",
       " ('proclaim', 0.8675816059112549),\n",
       " ('prosperity', 0.8613318800926208),\n",
       " ('stannis_baratheon', 0.8555351495742798),\n",
       " ('troublesome', 0.8463995456695557),\n",
       " ('stead', 0.845191240310669),\n",
       " ('steffon', 0.843341052532196),\n",
       " ('royal', 0.8421745300292969),\n",
       " ('restoration', 0.8398019075393677),\n",
       " ('side', 0.8384577035903931)]"
      ]
     },
     "execution_count": 22,
     "metadata": {},
     "output_type": "execute_result"
    }
   ],
   "source": [
    "w2v_model.wv.most_similar(positive=[\"iron_throne\"])"
   ]
  },
  {
   "cell_type": "markdown",
   "metadata": {},
   "source": [
    "Dentre outras palavras, parece que o personagem principal inserido nesse contexto é o Stannis Baratheon.\n",
    "\n",
    "Além disso, também podemos usar essa função para fazer analogias. Qual será que é a palavra que está para \"king\", assim como \"queen\" está para \"cersei\"? "
   ]
  },
  {
   "cell_type": "code",
   "execution_count": 52,
   "metadata": {},
   "outputs": [],
   "source": [
    "def analogy(x1, x2, y1):\n",
    "    result = w2v_model.wv.most_similar(positive = [y1, x2], negative=[x1])\n",
    "    return result [0][0]"
   ]
  },
  {
   "cell_type": "code",
   "execution_count": 53,
   "metadata": {},
   "outputs": [
    {
     "data": {
      "text/plain": [
       "'tywin_lannister'"
      ]
     },
     "execution_count": 53,
     "metadata": {},
     "output_type": "execute_result"
    }
   ],
   "source": [
    "analogy('queen', 'cersei', 'king')"
   ]
  },
  {
   "cell_type": "markdown",
   "metadata": {},
   "source": [
    "### `similarity`"
   ]
  },
  {
   "cell_type": "markdown",
   "metadata": {},
   "source": [
    "Agora, vamos ver quão similares são duas palavras diferentes"
   ]
  },
  {
   "cell_type": "code",
   "execution_count": 25,
   "metadata": {},
   "outputs": [
    {
     "data": {
      "text/plain": [
       "0.34574005"
      ]
     },
     "execution_count": 25,
     "metadata": {},
     "output_type": "execute_result"
    }
   ],
   "source": [
    "w2v_model.wv.similarity('jon', 'king')"
   ]
  },
  {
   "cell_type": "code",
   "execution_count": 26,
   "metadata": {},
   "outputs": [
    {
     "data": {
      "text/plain": [
       "0.6299548"
      ]
     },
     "execution_count": 26,
     "metadata": {},
     "output_type": "execute_result"
    }
   ],
   "source": [
    "w2v_model.wv.similarity('joffrey', 'king')"
   ]
  },
  {
   "cell_type": "markdown",
   "metadata": {},
   "source": [
    "### `doesnt_match`\n",
    "Esta função pede para que o nosso modelo encontre o a palavra que não pertence à lista. Aqui, vamos tentar utilizá-la para reconhecer o membro que não pertence àquela família:"
   ]
  },
  {
   "cell_type": "code",
   "execution_count": 27,
   "metadata": {},
   "outputs": [
    {
     "name": "stderr",
     "output_type": "stream",
     "text": [
      "/Users/julia/opt/anaconda3/lib/python3.7/site-packages/gensim/models/keyedvectors.py:877: FutureWarning: arrays to stack must be passed as a \"sequence\" type such as list or tuple. Support for non-sequence iterables such as generators is deprecated as of NumPy 1.16 and will raise an error in the future.\n",
      "  vectors = vstack(self.word_vec(word, use_norm=True) for word in used_words).astype(REAL)\n"
     ]
    },
    {
     "data": {
      "text/plain": [
       "'joffrey'"
      ]
     },
     "execution_count": 27,
     "metadata": {},
     "output_type": "execute_result"
    }
   ],
   "source": [
    "w2v_model.wv.doesnt_match(['jon', 'arya', 'joffrey', 'sansa'])"
   ]
  },
  {
   "cell_type": "code",
   "execution_count": 28,
   "metadata": {},
   "outputs": [
    {
     "data": {
      "text/plain": [
       "'daenerys'"
      ]
     },
     "execution_count": 28,
     "metadata": {},
     "output_type": "execute_result"
    }
   ],
   "source": [
    "w2v_model.wv.doesnt_match(['cersei', 'jaime', 'daenerys', 'tyrion'])"
   ]
  },
  {
   "cell_type": "markdown",
   "metadata": {},
   "source": [
    "# Visualizações "
   ]
  },
  {
   "cell_type": "code",
   "execution_count": 29,
   "metadata": {},
   "outputs": [],
   "source": [
    "import numpy as np\n",
    "import matplotlib.pyplot as plt\n",
    "%matplotlib inline\n",
    " \n",
    "import seaborn as sns\n",
    "sns.set_style(\"darkgrid\")\n",
    "\n",
    "from sklearn.decomposition import PCA\n",
    "from sklearn.manifold import TSNE"
   ]
  },
  {
   "cell_type": "markdown",
   "metadata": {},
   "source": [
    "* A intenção do notebook é a de explicar como aplicar o word2vec e não como o t-SNE funciona. Se você quiser saber mais sobre isso, você pode começar por [aqui](https://medium.com/@luckylwk/visualising-high-dimensional-datasets-using-pca-and-t-sne-in-python-8ef87e7915b)"
   ]
  },
  {
   "cell_type": "markdown",
   "metadata": {},
   "source": [
    "Nosso objetivo nesta parte é plotar 80 dimensões de vetores em gráficos bidimensionais, e, com isso, observar se conseguimos encontrar padrões interessantes. \n",
    "\n",
    "Para fazer as visualizações mais interessantes, vamos observar os relacionamentos entre a palavra da query (em vermelho), as palavras correspondentes mais semelhantes ao modelo (em azul), e outras palavras do vocabulário (em verde). \n",
    "\n"
   ]
  },
  {
   "cell_type": "code",
   "execution_count": 33,
   "metadata": {},
   "outputs": [],
   "source": [
    "def tsnescatterplot(model, word, list_names):\n",
    "\n",
    "    arrays = np.empty((0, 80), dtype='f')\n",
    "    word_labels = [word]\n",
    "    color_list  = ['red']\n",
    "\n",
    "    # adiciona o vetor da palavra da query\n",
    "    arrays = np.append(arrays, model.wv.__getitem__([word]), axis=0)\n",
    "    \n",
    "    # gera lista com as palavras mais similares \n",
    "    close_words = model.wv.most_similar([word])\n",
    "    \n",
    "    # adiciona os vetores para cada uma das palavras mais próximas no array \n",
    "    for wrd_score in close_words:\n",
    "        wrd_vector = model.wv.__getitem__([wrd_score[0]])\n",
    "        word_labels.append(wrd_score[0])\n",
    "        color_list.append('blue')\n",
    "        arrays = np.append(arrays, wrd_vector, axis=0)\n",
    "    \n",
    "    # adiciona os vetores para cada uma das palavras em list_names no array \n",
    "    for wrd in list_names:\n",
    "        wrd_vector = model.wv.__getitem__([wrd])\n",
    "        word_labels.append(wrd)\n",
    "        color_list.append('green')\n",
    "        arrays = np.append(arrays, wrd_vector, axis=0)\n",
    "        \n",
    "    # Reduz a dimensionalidade de 80 para 10 dimensões com PCA\n",
    "    reduc = PCA(n_components=10).fit_transform(arrays)\n",
    "    \n",
    "    # Acha as coordenadas do t-SNE para 2 dimensões \n",
    "    np.set_printoptions(suppress=True)\n",
    "    \n",
    "    Y = TSNE(n_components=2, random_state=0, perplexity=15).fit_transform(reduc)\n",
    "    \n",
    "    # Arruma tudo para o plot\n",
    "    df = pd.DataFrame({'x': [x for x in Y[:, 0]],\n",
    "                       'y': [y for y in Y[:, 1]],\n",
    "                       'words': word_labels,\n",
    "                       'color': color_list})\n",
    "    \n",
    "    fig, _ = plt.subplots()\n",
    "    fig.set_size_inches(9, 9)\n",
    "    \n",
    "    # Plot básico\n",
    "    p1 = sns.regplot(data=df,\n",
    "                     x=\"x\",\n",
    "                     y=\"y\",\n",
    "                     fit_reg=False,\n",
    "                     marker=\"o\",\n",
    "                     scatter_kws={'s': 40,\n",
    "                                  'facecolors': df['color']\n",
    "                                 }\n",
    "                    )\n",
    "    \n",
    "    # Adiciona anotações uma por uma com um loop\n",
    "    for line in range(0, df.shape[0]):\n",
    "         p1.text(df[\"x\"][line],\n",
    "                 df['y'][line],\n",
    "                 '  ' + df[\"words\"][line].title(),\n",
    "                 horizontalalignment='left',\n",
    "                 verticalalignment='bottom', size='medium',\n",
    "                 color=df['color'][line],\n",
    "                 weight='normal'\n",
    "                ).set_size(15)\n",
    "\n",
    "    \n",
    "    plt.xlim(Y[:, 0].min()-50, Y[:, 0].max()+50)\n",
    "    plt.ylim(Y[:, 1].min()-50, Y[:, 1].max()+50)\n",
    "            \n",
    "    plt.title('t-SNE visualization for {}'.format(word.title()))"
   ]
  },
  {
   "cell_type": "markdown",
   "metadata": {},
   "source": [
    "### 10 palavras mais similares VS 8 palavras aleatórias"
   ]
  },
  {
   "cell_type": "code",
   "execution_count": 31,
   "metadata": {},
   "outputs": [
    {
     "data": {
      "image/png": "[encoded data removed]",
      "text/plain": [
       "<Figure size 648x648 with 1 Axes>"
      ]
     },
     "metadata": {},
     "output_type": "display_data"
    }
   ],
   "source": [
    "tsnescatterplot(w2v_model, 'jon', ['fight', 'battle', 'sun', 'snow', 'ghost', 'king', 'dragon', 'daenerys']) "
   ]
  },
  {
   "cell_type": "markdown",
   "metadata": {},
   "source": [
    "### 10 palavras mais similares VS 10 palavras menos similares"
   ]
  },
  {
   "cell_type": "code",
   "execution_count": 32,
   "metadata": {},
   "outputs": [
    {
     "data": {
      "image/png": "[encoded data removed]",
      "text/plain": [
       "<Figure size 648x648 with 1 Axes>"
      ]
     },
     "metadata": {},
     "output_type": "display_data"
    }
   ],
   "source": [
    "tsnescatterplot(w2v_model, 'daenerys', [i[0] for i in w2v_model.wv.most_similar(negative=[\"daenerys\"])])"
   ]
  },
  {
   "cell_type": "code",
   "execution_count": null,
   "metadata": {},
   "outputs": [],
   "source": []
  }
 ],
 "metadata": {
  "kernelspec": {
   "display_name": "Python 3",
   "language": "python",
   "name": "python3"
  },
  "language_info": {
   "codemirror_mode": {
    "name": "ipython",
    "version": 3
   },
   "file_extension": ".py",
   "mimetype": "text/x-python",
   "name": "python",
   "nbconvert_exporter": "python",
   "pygments_lexer": "ipython3",
   "version": "3.7.6"
  }
 },
 "nbformat": 4,
 "nbformat_minor": 4
}
